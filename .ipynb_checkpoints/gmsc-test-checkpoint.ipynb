{
 "cells": [
  {
   "cell_type": "code",
   "execution_count": null,
   "metadata": {
    "collapsed": true,
    "is_executing": true
   },
   "outputs": [],
   "source": [
    "import matplotlib.pyplot as plt\n",
    "import numpy as np\n",
    "import pandas as pd\n",
    "import seaborn as sns\n",
    "\n",
    "# We're using scikit so load in all the required dependencies\n",
    "from sklearn.preprocessing import StandardScaler\n",
    "from sklearn.tree import DecisionTreeClassifier\n",
    "from sklearn.model_selection import cross_val_score, StratifiedKFold\n",
    "from sklearn.metrics import classification_report, roc_auc_score, roc_curve"
   ]
  },
  {
   "cell_type": "code",
   "execution_count": null,
   "metadata": {
    "collapsed": false
   },
   "outputs": [],
   "source": [
    "# Load in the .csv files\n",
    "data_dir = \"input/gmsc\"\n",
    "train = pd.read_csv(f\"{data_dir}/cs-training.csv\")\n",
    "test = pd.read_csv(f\"{data_dir}/cs-test.csv\")\n",
    "submission = pd.read_csv(f\"{data_dir}/sampleEntry.csv\")"
   ]
  },
  {
   "cell_type": "code",
   "execution_count": null,
   "metadata": {
    "collapsed": false
   },
   "outputs": [],
   "source": [
    "# Shows the shape and info of the dataframe\n",
    "print(\"shape of dataframe is : \", train.shape)\n",
    "train.info()"
   ]
  },
  {
   "cell_type": "code",
   "execution_count": null,
   "metadata": {
    "collapsed": false
   },
   "outputs": [],
   "source": [
    "# Rename the first column \"Unnamed\" to be \"ID\"\n",
    "data = [train, test]\n",
    "for df in data:\n",
    "    df.rename(columns = {'Unnamed: 0': 'ID'}, inplace=True)"
   ]
  },
  {
   "cell_type": "code",
   "execution_count": null,
   "metadata": {
    "collapsed": false
   },
   "outputs": [],
   "source": [
    "# Replace the null values to round out the training dataframe\n",
    "train['MonthlyIncome'].fillna(train['MonthlyIncome'].mean(), inplace=True)\n",
    "train['NumberOfDependents'].fillna(train['NumberOfDependents'].mode()[0], inplace=True)\n",
    "\n",
    "train.isnull().sum()"
   ]
  },
  {
   "cell_type": "code",
   "execution_count": null,
   "metadata": {
    "collapsed": false
   },
   "outputs": [],
   "source": [
    "# Replace the null values to round out the test dataframe\n",
    "test['MonthlyIncome'].fillna(test['MonthlyIncome'].mean(), inplace=True)\n",
    "test['NumberOfDependents'].fillna(test['NumberOfDependents'].mode()[0], inplace=True)\n",
    "\n",
    "test.isnull().sum()"
   ]
  },
  {
   "cell_type": "code",
   "execution_count": null,
   "metadata": {
    "collapsed": false
   },
   "outputs": [],
   "source": [
    "# Drop the columns we don't need from our features and set our label\n",
    "X = train.drop(['ID', 'SeriousDlqin2yrs'], axis=1)\n",
    "y = train['SeriousDlqin2yrs']\n",
    "\n",
    "X_test = test.drop(['ID', 'SeriousDlqin2yrs'], axis=1)\n",
    "y_test = test['SeriousDlqin2yrs']"
   ]
  },
  {
   "cell_type": "code",
   "execution_count": null,
   "metadata": {},
   "outputs": [],
   "source": [
    "# Transform our numerical columns for training and test data\n",
    "num_columns = X.select_dtypes(include=['int64', 'float64']).columns.tolist()\n",
    "scale = StandardScaler()\n",
    "scale.fit(X[num_columns])\n",
    "X[num_columns] = scale.transform(X[num_columns]).copy()\n",
    "X_test[num_columns] = scale.transform((X_test[num_columns])).copy()"
   ]
  },
  {
   "cell_type": "code",
   "execution_count": null,
   "metadata": {
    "collapsed": false
   },
   "outputs": [],
   "source": [
    "# Normalise our labels\n",
    "y.value_counts(normalize=True)\n",
    "y_test.value_counts(normalize=True)"
   ]
  },
  {
   "cell_type": "code",
   "execution_count": null,
   "metadata": {
    "collapsed": false
   },
   "outputs": [],
   "source": [
    "# Define our decision tree classifier. Using 10 nodes as it predicts well without overfitting\n",
    "model = DecisionTreeClassifier(max_leaf_nodes=10, random_state=42)\n",
    "model.fit(X, y)"
   ]
  },
  {
   "cell_type": "code",
   "execution_count": null,
   "metadata": {
    "collapsed": false
   },
   "outputs": [],
   "source": [
    "# Define Stratified sampling for out data\n",
    "cv = StratifiedKFold(n_splits= 10, shuffle= True, random_state=13)\n",
    "roc_auc_scores = cross_val_score(model, X, y, scoring= 'roc_auc', cv=cv, n_jobs = -1)\n",
    "roc_auc_scores.mean()"
   ]
  },
  {
   "cell_type": "code",
   "execution_count": null,
   "metadata": {
    "collapsed": false
   },
   "outputs": [],
   "source": [
    "# Obtain our predictions\n",
    "y_pred = model.predict(X)\n",
    "y_pred_proba = model.predict_proba(X)[:,1]\n",
    "y_test_pred_proba = model.predict_proba(X_test)[:,1]"
   ]
  },
  {
   "cell_type": "code",
   "execution_count": null,
   "metadata": {
    "collapsed": false
   },
   "outputs": [],
   "source": [
    "# roc_aoc_score for our predictions\n",
    "roc_auc_score(y, y_pred_proba)"
   ]
  },
  {
   "cell_type": "code",
   "execution_count": null,
   "metadata": {
    "collapsed": false
   },
   "outputs": [],
   "source": [
    "# Plot the roc curve\n",
    "def plot_roc(y, y_pred_proba):\n",
    "    fpr, tpr, thresholds = roc_curve(y, y_pred_proba)\n",
    "    plt.plot(fpr, tpr)\n",
    "    plt.plot(fpr, fpr, linestyle = '--', color = 'k')\n",
    "    plt.xlabel('False positive rate')\n",
    "    plt.ylabel('True positive rate')\n",
    "    plt.title('ROC curve')"
   ]
  },
  {
   "cell_type": "code",
   "execution_count": null,
   "metadata": {
    "collapsed": false
   },
   "outputs": [],
   "source": [
    "plot_roc(y, y_pred_proba)"
   ]
  },
  {
   "cell_type": "code",
   "execution_count": null,
   "metadata": {
    "collapsed": false
   },
   "outputs": [],
   "source": [
    "print(classification_report(y, y_pred))"
   ]
  },
  {
   "cell_type": "code",
   "execution_count": null,
   "metadata": {
    "collapsed": false
   },
   "outputs": [],
   "source": [
    "# Display our decision tree\n",
    "from sklearn import tree\n",
    "fig = plt.figure(figsize=(25,20))\n",
    "# tree.plot_tree(model)\n",
    "\n",
    "tree.plot_tree(model,\n",
    "    feature_names=X.columns,\n",
    "    class_names=True,\n",
    "    filled=True)\n"
   ]
  },
  {
   "cell_type": "code",
   "execution_count": null,
   "metadata": {
    "collapsed": false
   },
   "outputs": [],
   "source": []
  }
 ],
 "metadata": {
  "kernelspec": {
   "display_name": "labs-F6TTcUyJ",
   "language": "python",
   "name": "python3"
  },
  "language_info": {
   "codemirror_mode": {
    "name": "ipython",
    "version": 3
   },
   "file_extension": ".py",
   "mimetype": "text/x-python",
   "name": "python",
   "nbconvert_exporter": "python",
   "pygments_lexer": "ipython3",
   "version": "3.11.8"
  },
  "vscode": {
   "interpreter": {
    "hash": "4a4666eb3abd0853b32654dad663502dcbe48b4a1a91c52218cb0a2351316413"
   }
  }
 },
 "nbformat": 4,
 "nbformat_minor": 0
}

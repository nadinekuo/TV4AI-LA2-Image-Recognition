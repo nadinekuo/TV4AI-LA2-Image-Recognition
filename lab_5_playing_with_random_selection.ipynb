{
 "cells": [
  {
   "cell_type": "code",
   "execution_count": null,
   "metadata": {},
   "outputs": [],
   "source": [
    "# In this lab we demonstrate how we can randomly alter pixels in an image to change the prediction\n",
    "# This is a simple random selection algorithm that gradually alters pixels until the image prediction is flipped."
   ]
  },
  {
   "cell_type": "code",
   "execution_count": null,
   "metadata": {},
   "outputs": [],
   "source": [
    "from helpers.image_models import ImagePrediction\n",
    "from validate_ground_truth.imagenet_ground_truth import ImagenetGroundTruth\n",
    "\n",
    "predictor = ImagePrediction(model_name=\"vgg16\")\n",
    "ground_truth = ImagenetGroundTruth()"
   ]
  },
  {
   "cell_type": "code",
   "execution_count": null,
   "metadata": {},
   "outputs": [],
   "source": [
    "# Get the initial prediction for the image (Feel free to change from the provided images or upload your own!)\n",
    "initial_predictions = predictor.get_prediction(\"./random_images/arctic-fox.jpg\")\n",
    "print(initial_predictions)"
   ]
  },
  {
   "cell_type": "code",
   "execution_count": null,
   "metadata": {},
   "outputs": [],
   "source": [
    "predictor.random_perturbations(\"random_images/arctic-fox.jpg\")"
   ]
  },
  {
   "cell_type": "code",
   "execution_count": null,
   "metadata": {},
   "outputs": [],
   "source": [
    "# Play around with the above to see how it handles different image types.\n",
    "# Multiple runs should yield different results depending on where the pixels are placed on the image.\n",
    "\n",
    "# Extend this experiment to make it smarter by implementing a hill climber algorithm."
   ]
  }
 ],
 "metadata": {
  "kernelspec": {
   "display_name": "CS4370-Ozgfi3NM",
   "language": "python",
   "name": "python3"
  },
  "language_info": {
   "codemirror_mode": {
    "name": "ipython",
    "version": 3
   },
   "file_extension": ".py",
   "mimetype": "text/x-python",
   "name": "python",
   "nbconvert_exporter": "python",
   "pygments_lexer": "ipython3",
   "version": "3.11.8"
  },
  "orig_nbformat": 4,
  "vscode": {
   "interpreter": {
    "hash": "97666b196638f24d7ab12e1d9bb763b82228415352c3dcf19abb3d6d02379789"
   }
  }
 },
 "nbformat": 4,
 "nbformat_minor": 2
}

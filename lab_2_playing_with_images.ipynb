{
 "cells": [
  {
   "cell_type": "code",
   "execution_count": 4,
   "metadata": {},
   "outputs": [
    {
     "name": "stdout",
     "output_type": "stream",
     "text": [
      "0 Physical GPUs, 0 Logical GPUs\n",
      "Version:  2.15.0\n",
      "Eager mode:  True\n",
      "GPU is NOT AVAILABLE\n"
     ]
    }
   ],
   "source": [
    "# Import relevant modules\n",
    "# ImagePrediction is a helper module (helpers/image_models) that assists with setting up the image recognition models\n",
    "# and getting a prediction.\n",
    "from helpers.image_models import ImagePrediction\n",
    "# Ground truth helper so we can see the ground truth of an Imagenet image.\n",
    "from validate_ground_truth.imagenet_ground_truth import ImagenetGroundTruth\n",
    "# Instantiates the ImagePrediction object with the vgg16 model\n",
    "predictor = ImagePrediction(model_name=\"vgg16\")\n",
    "# Instantiates the ImagenetGroundTruth object\n",
    "ground_truth = ImagenetGroundTruth()"
   ]
  },
  {
   "cell_type": "code",
   "execution_count": 5,
   "metadata": {},
   "outputs": [
    {
     "name": "stdout",
     "output_type": "stream",
     "text": [
      "[('n02437616', 'llama', 0.9984397), ('n02417914', 'ibex', 0.00045074782), ('n02412080', 'ram', 0.0003347307), ('n01518878', 'ostrich', 0.00028087143), ('n02423022', 'gazelle', 0.00020455045), ('n02415577', 'bighorn', 0.00011685205), ('n02326432', 'hare', 9.440649e-05), ('n01806143', 'peacock', 1.0596843e-05), ('n02391049', 'zebra', 9.451463e-06), ('n01877812', 'wallaby', 5.0913545e-06)]\n"
     ]
    }
   ],
   "source": [
    "# Will use the predictor to give us a prediction fitness for the llama image.\n",
    "print(predictor.get_prediction(\"./random_images/llama.jpg\"))"
   ]
  },
  {
   "cell_type": "code",
   "execution_count": 6,
   "metadata": {},
   "outputs": [
    {
     "name": "stdout",
     "output_type": "stream",
     "text": [
      "[('n04467665', 'trailer_truck', 0.6130443), ('n03796401', 'moving_van', 0.18597458), ('n03417042', 'garbage_truck', 0.17115846), ('n04065272', 'recreational_vehicle', 0.01292002), ('n04461696', 'tow_truck', 0.004495148), ('n03776460', 'mobile_home', 0.0028719658), ('n03345487', 'fire_engine', 0.0025651865), ('n03769881', 'minibus', 0.0014597897), ('n02701002', 'ambulance', 0.001394818), ('n03384352', 'forklift', 0.0006029678)]\n"
     ]
    }
   ],
   "source": [
    "# Will use the predictor to give us a prediction fitness for the truck image.\n",
    "print(predictor.get_prediction(\"./random_images/truck.jpg\"))"
   ]
  },
  {
   "cell_type": "code",
   "execution_count": 7,
   "metadata": {},
   "outputs": [
    {
     "name": "stdout",
     "output_type": "stream",
     "text": [
      "[('n02120505', 'grey_fox', 0.71067125), ('n02114855', 'coyote', 0.21894883), ('n02119789', 'kit_fox', 0.035443097), ('n02119022', 'red_fox', 0.016821338), ('n02114712', 'red_wolf', 0.006262531), ('n01877812', 'wallaby', 0.0045209085), ('n02326432', 'hare', 0.0021693334), ('n02325366', 'wood_rabbit', 0.0020182133), ('n02114367', 'timber_wolf', 0.0008821066), ('n02127052', 'lynx', 0.0007048801)]\n",
      "True\n"
     ]
    }
   ],
   "source": [
    "# Gets the prediction for the Imagenet image 'grey_fox' and validates if the ground_truth for this image is correct.\n",
    "prediction = predictor.get_prediction(\"./imagenet_images/ILSVRC2012_val_00000323.JPEG\")\n",
    "print(prediction)\n",
    "print(ground_truth.validate_ground_truth(\"imagenet_images/ILSVRC2012_val_00000323.JPEG\", prediction[0][0]))"
   ]
  },
  {
   "cell_type": "code",
   "execution_count": 8,
   "metadata": {},
   "outputs": [
    {
     "name": "stdout",
     "output_type": "stream",
     "text": [
      "[('n02120079', 'Arctic_fox', 0.9021169), ('n02134084', 'ice_bear', 0.0374206), ('n02114548', 'white_wolf', 0.02616428), ('n02441942', 'weasel', 0.025217723), ('n02326432', 'hare', 0.0026365125), ('n02111889', 'Samoyed', 0.0025606796), ('n02109961', 'Eskimo_dog', 0.0014540001), ('n02110185', 'Siberian_husky', 0.0006840612), ('n02442845', 'mink', 0.00034034983), ('n02114367', 'timber_wolf', 0.0002977586)]\n"
     ]
    }
   ],
   "source": [
    "# Gets the fitness prediction for the arctic fox image.\n",
    "arctic_fox = predictor.get_prediction(\"./random_images/arctic-fox.jpg\")\n",
    "print(arctic_fox)"
   ]
  },
  {
   "cell_type": "code",
   "execution_count": 9,
   "metadata": {},
   "outputs": [
    {
     "name": "stdout",
     "output_type": "stream",
     "text": [
      "[('n02120079', 'Arctic_fox', 0.80227584), ('n02114548', 'white_wolf', 0.07066281), ('n02134084', 'ice_bear', 0.044756357), ('n02441942', 'weasel', 0.026944483), ('n02111889', 'Samoyed', 0.022159975), ('n02326432', 'hare', 0.008744982), ('n02442845', 'mink', 0.0021549524), ('n02109961', 'Eskimo_dog', 0.0014565279), ('n01877812', 'wallaby', 0.0013594517), ('n03794056', 'mousetrap', 0.0013465774)]\n"
     ]
    }
   ],
   "source": [
    "# Gets the fitness prediction for the arctic fox sepia image.\n",
    "# This is the same image as arctic fox but simply modified to be a sepia colour.\n",
    "arctic_fox_sepia = predictor.get_prediction(\"./random_images/arctic-fox-sepia.jpg\")\n",
    "print(arctic_fox_sepia)"
   ]
  },
  {
   "cell_type": "code",
   "execution_count": 10,
   "metadata": {},
   "outputs": [
    {
     "name": "stdout",
     "output_type": "stream",
     "text": [
      "0.09984106\n"
     ]
    }
   ],
   "source": [
    "# Gives us the amount the fitness has decreased between the original and sepia image.\n",
    "# We can see that by just applying a very small change in colour to the image, that we can already reduce the fitness.\n",
    "print(arctic_fox[0][2] - arctic_fox_sepia[0][2])"
   ]
  },
  {
   "cell_type": "code",
   "execution_count": 8,
   "metadata": {},
   "outputs": [],
   "source": [
    "# Your task now is to expand on this experiment by manually making changes to the provided images as well as any other images you can find.\n",
    "# Start by running the image through the predictor to get a baseline fitness.\n",
    "# Then copy and modify the image to see what effect this has on the fitness.\n",
    "# Are there any situations where you can flip the top-1 prediction by making these changes to the image.\n",
    "# (NOTE - This may be easier with an image that already has a low prediction fitness to begin with)"
   ]
  },
  {
   "cell_type": "code",
   "execution_count": 9,
   "metadata": {},
   "outputs": [],
   "source": [
    "# Just like in the lecture (Leonhard's dog picture) you could also try drawing something and seeing if the model is able to predict this correctly."
   ]
  }
 ],
 "metadata": {
  "kernelspec": {
   "display_name": "Python 3.10.8 ('CS4370-Ozgfi3NM')",
   "language": "python",
   "name": "python3"
  },
  "language_info": {
   "codemirror_mode": {
    "name": "ipython",
    "version": 3
   },
   "file_extension": ".py",
   "mimetype": "text/x-python",
   "name": "python",
   "nbconvert_exporter": "python",
   "pygments_lexer": "ipython3",
   "version": "3.11.8"
  },
  "orig_nbformat": 4,
  "vscode": {
   "interpreter": {
    "hash": "97666b196638f24d7ab12e1d9bb763b82228415352c3dcf19abb3d6d02379789"
   }
  }
 },
 "nbformat": 4,
 "nbformat_minor": 2
}

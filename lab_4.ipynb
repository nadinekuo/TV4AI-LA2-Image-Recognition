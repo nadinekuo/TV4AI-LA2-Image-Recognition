{
 "cells": [
  {
   "cell_type": "code",
   "execution_count": 1,
   "metadata": {
    "ExecuteTime": {
     "end_time": "2024-03-08T13:17:43.701745Z",
     "start_time": "2024-03-08T13:17:33.088083Z"
    }
   },
   "outputs": [
    {
     "name": "stdout",
     "output_type": "stream",
     "text": [
      "0 Physical GPUs, 0 Logical GPUs\n",
      "Version:  2.15.0\n",
      "Eager mode:  True\n",
      "GPU is NOT AVAILABLE\n"
     ]
    }
   ],
   "source": [
    "# Import relevant modules\n",
    "# ImagePrediction is a helper module (helpers/image_models) that assists with setting up the image recognition models\n",
    "# and getting a prediction.\n",
    "from helpers.image_models import ImagePrediction\n",
    "# Ground truth helper so we can see the ground truth of an Imagenet image.\n",
    "from validate_ground_truth.imagenet_ground_truth import ImagenetGroundTruth\n",
    "# Instantiates the ImagePrediction object with the vgg16 model\n",
    "predictor = ImagePrediction(model_name=\"vgg16\")\n",
    "# Instantiates the ImagenetGroundTruth object\n",
    "ground_truth = ImagenetGroundTruth()\n",
    "from PIL import Image"
   ]
  },
  {
   "cell_type": "code",
   "execution_count": 2,
   "metadata": {},
   "outputs": [
    {
     "name": "stdout",
     "output_type": "stream",
     "text": [
      "[('n02120079', 'Arctic_fox', 0.9021169), ('n02134084', 'ice_bear', 0.0374206), ('n02114548', 'white_wolf', 0.02616428), ('n02441942', 'weasel', 0.025217723), ('n02326432', 'hare', 0.0026365125), ('n02111889', 'Samoyed', 0.0025606796), ('n02109961', 'Eskimo_dog', 0.0014540001), ('n02110185', 'Siberian_husky', 0.0006840612), ('n02442845', 'mink', 0.00034034983), ('n02114367', 'timber_wolf', 0.0002977586)]\n"
     ]
    }
   ],
   "source": [
    "# Gets the fitness prediction for the arctic fox image.\n",
    "arctic_fox_loc = \"./random_images/arctic-fox.jpg\"\n",
    "arctic_fox = predictor.get_prediction(arctic_fox_loc)\n",
    "print(arctic_fox)"
   ]
  },
  {
   "cell_type": "code",
   "execution_count": 3,
   "metadata": {},
   "outputs": [],
   "source": [
    "# Create an image object from the arctic-fox jpg\n",
    "arctic_fox = Image.open(arctic_fox_loc)\n",
    "# Flip the image so it's upside down\n",
    "af_flipped = arctic_fox.transpose(method=Image.Transpose.FLIP_TOP_BOTTOM)\n",
    "# Save the image\n",
    "output_flipped = \"output/af_flipped.jpg\" \n",
    "af_flipped.save(output_flipped)"
   ]
  },
  {
   "cell_type": "code",
   "execution_count": 4,
   "metadata": {},
   "outputs": [
    {
     "name": "stdout",
     "output_type": "stream",
     "text": [
      "[('n02134084', 'ice_bear', 0.19055863), ('n03888257', 'parachute', 0.17134722), ('n02120079', 'Arctic_fox', 0.044043243), ('n01796340', 'ptarmigan', 0.03144529), ('n02441942', 'weasel', 0.017049884), ('n03958227', 'plastic_bag', 0.01683801), ('n03188531', 'diaper', 0.015459829), ('n02058221', 'albatross', 0.013839657), ('n03743016', 'megalith', 0.011456711), ('n03344393', 'fireboat', 0.011417244)]\n"
     ]
    }
   ],
   "source": [
    "# Show us the prediction for the flipped image .. interesting outcome\n",
    "print(predictor.get_prediction(output_flipped))"
   ]
  },
  {
   "cell_type": "code",
   "execution_count": 6,
   "metadata": {},
   "outputs": [],
   "source": [
    "# Create an image object from the arctic-fox jpg\n",
    "arctic_fox = Image.open(arctic_fox_loc)\n",
    "# Apply a spread effect to the image\n",
    "af_flipped = arctic_fox.effect_spread(25)\n",
    "# Save the image\n",
    "output_spread = \"output/af_spread.jpg\"\n",
    "af_flipped.save(output_spread)"
   ]
  },
  {
   "cell_type": "code",
   "execution_count": 7,
   "metadata": {},
   "outputs": [
    {
     "name": "stdout",
     "output_type": "stream",
     "text": [
      "[('n03888257', 'parachute', 0.23524144), ('n09288635', 'geyser', 0.058479268), ('n03743016', 'megalith', 0.055063516), ('n02120079', 'Arctic_fox', 0.028307408), ('n04228054', 'ski', 0.02780072), ('n02441942', 'weasel', 0.025335884), ('n01796340', 'ptarmigan', 0.01868208), ('n03388043', 'fountain', 0.017796863), ('n03344393', 'fireboat', 0.015624823), ('n03930313', 'picket_fence', 0.013656557)]\n"
     ]
    }
   ],
   "source": [
    "# Show us the prediction for the flipped image .. interesting outcome\n",
    "print(predictor.get_prediction(output_spread))"
   ]
  }
 ],
 "metadata": {
  "kernelspec": {
   "display_name": "labs-F6TTcUyJ",
   "language": "python",
   "name": "python3"
  },
  "language_info": {
   "codemirror_mode": {
    "name": "ipython",
    "version": 3
   },
   "file_extension": ".py",
   "mimetype": "text/x-python",
   "name": "python",
   "nbconvert_exporter": "python",
   "pygments_lexer": "ipython3",
   "version": "3.11.6"
  },
  "orig_nbformat": 4
 },
 "nbformat": 4,
 "nbformat_minor": 2
}
